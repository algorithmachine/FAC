{
 "cells": [
  {
   "cell_type": "code",
   "execution_count": 1,
   "metadata": {},
   "outputs": [],
   "source": [
    "import boolexpr as bx\n",
    "import itertools"
   ]
  },
  {
   "cell_type": "code",
   "execution_count": null,
   "metadata": {},
   "outputs": [],
   "source": [
    "n = 113\n",
    "\n",
    "\n",
    "\n",
    "# This version looks for full reps of 33_65 over Z/nZ\n",
    "\n",
    "G = list(range(n))\n",
    "G_star = list(range(1,n))\n",
    "ctx = bx.Context()\n",
    "variables = { **{ (x,0) : ctx.get_var(str((x,0))) for x in G_star} ,\n",
    "             **{ (x,1) : ctx.get_var(str((x,1))) for x in G_star} ,  \n",
    "             **{ (x,2) : ctx.get_var(str((x,2))) for x in G_star} }\n",
    "\n",
    "\n",
    "# exactly one color is true\n",
    "conjuncts_colors = ( (variables[(x,0)] | variables[(x,1)] | variables[(x,2)]) \n",
    "                    & (~variables[(x,0)] | ~variables[(x,1)]) \n",
    "                    & (~variables[(x,0)] | ~variables[(x,2)]) \n",
    "                    & (~variables[(x,1)] | ~variables[(x,2)])  \n",
    "                    for x in G_star )\n",
    "\n",
    "phi_0 = bx.and_(*conjuncts_colors)\n",
    "\n",
    "# red must be symmetric\n",
    "red_inverse_pairs = ( bx.eq(variables[(x,0)],variables[((-x)%n,0)] )\n",
    "                 for x in G_star )\n",
    "\n",
    "# b1 must be symmetric\n",
    "blue_inverse_pairs = ( bx.eq(variables[(x,1)],variables[((-x)%n,1)] )\n",
    "                 for x in G_star )\n",
    "\n",
    "# b2 must be symmetric\n",
    "green_inverse_pairs = ( bx.eq(variables[(x,2)],variables[((-x)%n,2)] )\n",
    "                 for x in G_star )\n",
    "\n",
    "\n",
    "\n",
    "phi_1 = bx.and_( bx.and_(*red_inverse_pairs), bx.and_(*blue_inverse_pairs), bx.and_(*green_inverse_pairs) )\n",
    "\n",
    "\n",
    "def disjunction(x,c1,c2):\n",
    "    # returns a disjunction that says x in G_star has need c1-c2 met\n",
    "    witnesses = {(y,(x-y)%n) for y in set(G_star) - {x}}\n",
    "    return bx.or_( *( variables[(y, c1)] \n",
    "                               & variables[(z, c2)] \n",
    "                     for y,z in witnesses ) ) \n",
    "\n",
    "red_needs = {(0,0), (0,1), (0,2), (1,0), (2,0), (1,1), (1,2), (2,1), (2,2)}\n",
    "\n",
    "blue_needs = {(0,0), (0,1), (1,0), (0,2), (2,0), (1,1)}\n",
    "\n",
    "green_needs = {(0,0), (0,1), (0,2), (1,0), (2,0)}\n",
    "\n",
    "conjuncts_red_needs = ( bx.impl(variables[(x,0)] , \n",
    "                            bx.and_(*( disjunction(x,c1,c2) for c1,c2 \n",
    "                              in red_needs ) ) )  \n",
    "                             for x in G_star )\n",
    "\n",
    "conjuncts_blue_needs = ( bx.impl(variables[(x,1)] , \n",
    "                            bx.and_(*( disjunction(x,c1,c2) for c1,c2 \n",
    "                              in blue_needs ) ) )  \n",
    "                             for x in G_star )\n",
    "\n",
    "\n",
    "conjuncts_green_needs = ( bx.impl(variables[(x,2)] , \n",
    "                            bx.and_(*( disjunction(x,c1,c2) for c1,c2 \n",
    "                              in green_needs ) ) )  \n",
    "                             for x in G_star )\n",
    "\n",
    "\n",
    "\n",
    "\n",
    "phi_2 = bx.and_( bx.and_(*conjuncts_red_needs), \n",
    "                bx.and_(*conjuncts_blue_needs),  \n",
    "                bx.and_(*conjuncts_green_needs) )\n",
    "\n",
    "conjuncts_no_forb_triangles = ( bx.impl(~(variables[(i,0)] | variables[(j,0)] \n",
    "                               | variables[( (i+j)%n,0)] ), \n",
    "                                       (variables[(i,1)] & variables[(j,1)] \n",
    "                                       & variables[( (i+j)%n,1)] ) )\n",
    "                    for i,j in itertools.combinations_with_replacement(G_star,2) \n",
    "                               if (i+j)%n != 0 )\n",
    "\n",
    "phi_3 = bx.and_(*conjuncts_no_forb_triangles)\n",
    "\n",
    "\n",
    "# phi = bx.and_(phi_0, phi_1, phi_2)\n",
    "phi = bx.and_(phi_0, phi_1, phi_2, phi_3)\n",
    "\n",
    "phi.tseytin(ctx)\n",
    "\n",
    "phi.sat()"
   ]
  },
  {
   "cell_type": "code",
   "execution_count": 11,
   "metadata": {},
   "outputs": [
    {
     "ename": "TypeError",
     "evalue": "'NoneType' object is not subscriptable",
     "output_type": "error",
     "traceback": [
      "\u001b[0;31m---------------------------------------------------------------------------\u001b[0m",
      "\u001b[0;31mTypeError\u001b[0m                                 Traceback (most recent call last)",
      "\u001b[0;32m<ipython-input-11-f4b96046324b>\u001b[0m in \u001b[0;36m<module>\u001b[0;34m()\u001b[0m\n\u001b[1;32m      3\u001b[0m \u001b[0mD\u001b[0m  \u001b[0;34m=\u001b[0m \u001b[0moutput\u001b[0m\u001b[0;34m[\u001b[0m\u001b[0;36m1\u001b[0m\u001b[0;34m]\u001b[0m\u001b[0;34m\u001b[0m\u001b[0m\n\u001b[1;32m      4\u001b[0m \u001b[0;34m\u001b[0m\u001b[0m\n\u001b[0;32m----> 5\u001b[0;31m \u001b[0mR\u001b[0m \u001b[0;34m=\u001b[0m \u001b[0;34m{\u001b[0m\u001b[0mx\u001b[0m \u001b[0;32mfor\u001b[0m \u001b[0mx\u001b[0m \u001b[0;32min\u001b[0m \u001b[0mrange\u001b[0m\u001b[0;34m(\u001b[0m\u001b[0;36m1\u001b[0m\u001b[0;34m,\u001b[0m\u001b[0mn\u001b[0m\u001b[0;34m)\u001b[0m \u001b[0;32mif\u001b[0m \u001b[0mD\u001b[0m\u001b[0;34m[\u001b[0m\u001b[0mvariables\u001b[0m\u001b[0;34m[\u001b[0m\u001b[0;34m(\u001b[0m\u001b[0mx\u001b[0m\u001b[0;34m,\u001b[0m\u001b[0;36m0\u001b[0m\u001b[0;34m)\u001b[0m\u001b[0;34m]\u001b[0m\u001b[0;34m]\u001b[0m\u001b[0;34m}\u001b[0m\u001b[0;34m\u001b[0m\u001b[0m\n\u001b[0m\u001b[1;32m      6\u001b[0m \u001b[0mBl\u001b[0m \u001b[0;34m=\u001b[0m \u001b[0;34m{\u001b[0m\u001b[0mx\u001b[0m \u001b[0;32mfor\u001b[0m \u001b[0mx\u001b[0m \u001b[0;32min\u001b[0m \u001b[0mrange\u001b[0m\u001b[0;34m(\u001b[0m\u001b[0;36m1\u001b[0m\u001b[0;34m,\u001b[0m\u001b[0mn\u001b[0m\u001b[0;34m)\u001b[0m \u001b[0;32mif\u001b[0m \u001b[0mD\u001b[0m\u001b[0;34m[\u001b[0m\u001b[0mvariables\u001b[0m\u001b[0;34m[\u001b[0m\u001b[0;34m(\u001b[0m\u001b[0mx\u001b[0m\u001b[0;34m,\u001b[0m\u001b[0;36m1\u001b[0m\u001b[0;34m)\u001b[0m\u001b[0;34m]\u001b[0m\u001b[0;34m]\u001b[0m\u001b[0;34m}\u001b[0m\u001b[0;34m\u001b[0m\u001b[0m\n\u001b[1;32m      7\u001b[0m \u001b[0mBd\u001b[0m \u001b[0;34m=\u001b[0m \u001b[0;34m{\u001b[0m\u001b[0mx\u001b[0m \u001b[0;32mfor\u001b[0m \u001b[0mx\u001b[0m \u001b[0;32min\u001b[0m \u001b[0mrange\u001b[0m\u001b[0;34m(\u001b[0m\u001b[0;36m1\u001b[0m\u001b[0;34m,\u001b[0m\u001b[0mn\u001b[0m\u001b[0;34m)\u001b[0m \u001b[0;32mif\u001b[0m \u001b[0mD\u001b[0m\u001b[0;34m[\u001b[0m\u001b[0mvariables\u001b[0m\u001b[0;34m[\u001b[0m\u001b[0;34m(\u001b[0m\u001b[0mx\u001b[0m\u001b[0;34m,\u001b[0m\u001b[0;36m2\u001b[0m\u001b[0;34m)\u001b[0m\u001b[0;34m]\u001b[0m\u001b[0;34m]\u001b[0m\u001b[0;34m}\u001b[0m\u001b[0;34m\u001b[0m\u001b[0m\n",
      "\u001b[0;32m<ipython-input-11-f4b96046324b>\u001b[0m in \u001b[0;36m<setcomp>\u001b[0;34m(.0)\u001b[0m\n\u001b[1;32m      3\u001b[0m \u001b[0mD\u001b[0m  \u001b[0;34m=\u001b[0m \u001b[0moutput\u001b[0m\u001b[0;34m[\u001b[0m\u001b[0;36m1\u001b[0m\u001b[0;34m]\u001b[0m\u001b[0;34m\u001b[0m\u001b[0m\n\u001b[1;32m      4\u001b[0m \u001b[0;34m\u001b[0m\u001b[0m\n\u001b[0;32m----> 5\u001b[0;31m \u001b[0mR\u001b[0m \u001b[0;34m=\u001b[0m \u001b[0;34m{\u001b[0m\u001b[0mx\u001b[0m \u001b[0;32mfor\u001b[0m \u001b[0mx\u001b[0m \u001b[0;32min\u001b[0m \u001b[0mrange\u001b[0m\u001b[0;34m(\u001b[0m\u001b[0;36m1\u001b[0m\u001b[0;34m,\u001b[0m\u001b[0mn\u001b[0m\u001b[0;34m)\u001b[0m \u001b[0;32mif\u001b[0m \u001b[0mD\u001b[0m\u001b[0;34m[\u001b[0m\u001b[0mvariables\u001b[0m\u001b[0;34m[\u001b[0m\u001b[0;34m(\u001b[0m\u001b[0mx\u001b[0m\u001b[0;34m,\u001b[0m\u001b[0;36m0\u001b[0m\u001b[0;34m)\u001b[0m\u001b[0;34m]\u001b[0m\u001b[0;34m]\u001b[0m\u001b[0;34m}\u001b[0m\u001b[0;34m\u001b[0m\u001b[0m\n\u001b[0m\u001b[1;32m      6\u001b[0m \u001b[0mBl\u001b[0m \u001b[0;34m=\u001b[0m \u001b[0;34m{\u001b[0m\u001b[0mx\u001b[0m \u001b[0;32mfor\u001b[0m \u001b[0mx\u001b[0m \u001b[0;32min\u001b[0m \u001b[0mrange\u001b[0m\u001b[0;34m(\u001b[0m\u001b[0;36m1\u001b[0m\u001b[0;34m,\u001b[0m\u001b[0mn\u001b[0m\u001b[0;34m)\u001b[0m \u001b[0;32mif\u001b[0m \u001b[0mD\u001b[0m\u001b[0;34m[\u001b[0m\u001b[0mvariables\u001b[0m\u001b[0;34m[\u001b[0m\u001b[0;34m(\u001b[0m\u001b[0mx\u001b[0m\u001b[0;34m,\u001b[0m\u001b[0;36m1\u001b[0m\u001b[0;34m)\u001b[0m\u001b[0;34m]\u001b[0m\u001b[0;34m]\u001b[0m\u001b[0;34m}\u001b[0m\u001b[0;34m\u001b[0m\u001b[0m\n\u001b[1;32m      7\u001b[0m \u001b[0mBd\u001b[0m \u001b[0;34m=\u001b[0m \u001b[0;34m{\u001b[0m\u001b[0mx\u001b[0m \u001b[0;32mfor\u001b[0m \u001b[0mx\u001b[0m \u001b[0;32min\u001b[0m \u001b[0mrange\u001b[0m\u001b[0;34m(\u001b[0m\u001b[0;36m1\u001b[0m\u001b[0;34m,\u001b[0m\u001b[0mn\u001b[0m\u001b[0;34m)\u001b[0m \u001b[0;32mif\u001b[0m \u001b[0mD\u001b[0m\u001b[0;34m[\u001b[0m\u001b[0mvariables\u001b[0m\u001b[0;34m[\u001b[0m\u001b[0;34m(\u001b[0m\u001b[0mx\u001b[0m\u001b[0;34m,\u001b[0m\u001b[0;36m2\u001b[0m\u001b[0;34m)\u001b[0m\u001b[0;34m]\u001b[0m\u001b[0;34m]\u001b[0m\u001b[0;34m}\u001b[0m\u001b[0;34m\u001b[0m\u001b[0m\n",
      "\u001b[0;31mTypeError\u001b[0m: 'NoneType' object is not subscriptable"
     ]
    }
   ],
   "source": [
    "output = _\n",
    "\n",
    "D  = output[1]\n",
    "\n",
    "R = {x for x in range(1,n) if D[variables[(x,0)]]}\n",
    "Bl = {x for x in range(1,n) if D[variables[(x,1)]]}\n",
    "Bd = {x for x in range(1,n) if D[variables[(x,2)]]}\n",
    "\n",
    "\n",
    "def adder(A,B,p):\n",
    "    # why did I use loops here? I am lazy...\n",
    "    out = set()\n",
    "    for a in A:\n",
    "        for b in B:\n",
    "            out.add((a+b)%p)\n",
    "    return out\n",
    "    \n",
    "I = {0}\n",
    "Div = set(range(1,n))\n",
    "\n",
    "RplusR = adder(R,R,n)\n",
    "print ('RplusR', RplusR == I|Div)\n",
    "BlplusBl = adder(Bl,Bl,n)\n",
    "print ('BlplusBl', BlplusBl == R|Bl)\n",
    "BdplusBd = adder(Bd,Bd,n)\n",
    "print ('BdplusBd', BdplusBd == R|Bd)\n",
    "BlplusBd = adder(Bl,Bd,n)\n",
    "print ('BlplusBd', BlplusBd == I|R|Bl|Bd)"
   ]
  },
  {
   "cell_type": "code",
   "execution_count": 41,
   "metadata": {},
   "outputs": [
    {
     "name": "stdout",
     "output_type": "stream",
     "text": [
      "R = [1, 4, 5, 6, 7, 9, 13, 16, 20, 22, 23, 24, 25, 28]\n",
      "B = [2, 3, 11, 14, 17, 19, 21]\n",
      "Bconv = [8, 10, 12, 15, 18, 26, 27]\n"
     ]
    }
   ],
   "source": [
    "# n=29\n",
    "\n",
    "print('R =', sorted(R))\n",
    "print('B =', sorted(Bl))\n",
    "print('Bconv =', sorted(Bd))"
   ]
  },
  {
   "cell_type": "code",
   "execution_count": 38,
   "metadata": {},
   "outputs": [
    {
     "name": "stdout",
     "output_type": "stream",
     "text": [
      "R = [1, 5, 6, 8, 9, 14, 16, 17, 18, 19, 20, 21, 22, 24, 29, 30, 32, 33, 37]\n",
      "B = [3, 7, 10, 11, 13, 23, 26, 34, 36]\n",
      "Bconv = [2, 4, 12, 15, 25, 27, 28, 31, 35]\n"
     ]
    }
   ],
   "source": [
    "# n=38\n",
    "\n",
    "print('R =', sorted(R))\n",
    "print('B =', sorted(Bl))\n",
    "print('Bconv =', sorted(Bd))"
   ]
  },
  {
   "cell_type": "code",
   "execution_count": 44,
   "metadata": {},
   "outputs": [
    {
     "name": "stdout",
     "output_type": "stream",
     "text": [
      "R = [3, 5, 6, 7, 8, 12, 13, 16, 17, 19, 20, 22, 23, 26, 27, 31, 32, 33, 34, 36]\n",
      "B = [1, 2, 4, 11, 15, 21, 25, 29, 30]\n",
      "Bconv = [9, 10, 14, 18, 24, 28, 35, 37, 38]\n"
     ]
    }
   ],
   "source": [
    "# n=39\n",
    "\n",
    "print('R =', sorted(R))\n",
    "print('B =', sorted(Bl))\n",
    "print('Bconv =', sorted(Bd))"
   ]
  },
  {
   "cell_type": "code",
   "execution_count": 48,
   "metadata": {},
   "outputs": [
    {
     "name": "stdout",
     "output_type": "stream",
     "text": [
      "R = [1, 3, 4, 5, 8, 11, 12, 13, 16, 18, 19, 22, 23, 25, 28, 29, 30, 33, 36, 37, 38, 40]\n",
      "B = [2, 6, 10, 17, 20, 26, 27, 32, 34]\n",
      "Bconv = [7, 9, 14, 15, 21, 24, 31, 35, 39]\n"
     ]
    }
   ],
   "source": [
    "# n=41\n",
    "\n",
    "print('R =', sorted(R))\n",
    "print('B =', sorted(Bl))\n",
    "print('Bconv =', sorted(Bd))"
   ]
  },
  {
   "cell_type": "code",
   "execution_count": 52,
   "metadata": {},
   "outputs": [
    {
     "name": "stdout",
     "output_type": "stream",
     "text": [
      "43\n",
      "R = [1, 3, 4, 5, 8, 11, 12, 13, 14, 15, 18, 25, 28, 29, 30, 31, 32, 35, 38, 39, 40, 42]\n",
      "B = [2, 6, 7, 9, 16, 22, 23, 24, 26, 33]\n",
      "Bconv = [10, 17, 19, 20, 21, 27, 34, 36, 37, 41]\n"
     ]
    }
   ],
   "source": [
    "# n=43\n",
    "print(n)\n",
    "print('R =', sorted(R))\n",
    "print('B =', sorted(Bl))\n",
    "print('Bconv =', sorted(Bd))"
   ]
  },
  {
   "cell_type": "code",
   "execution_count": 55,
   "metadata": {},
   "outputs": [
    {
     "name": "stdout",
     "output_type": "stream",
     "text": [
      "44\n",
      "R = [1, 2, 3, 4, 5, 6, 7, 13, 15, 16, 20, 22, 24, 28, 29, 31, 37, 38, 39, 40, 41, 42, 43]\n",
      "B = [8, 12, 14, 17, 23, 25, 26, 33, 34, 35]\n",
      "Bconv = [9, 10, 11, 18, 19, 21, 27, 30, 32, 36]\n"
     ]
    }
   ],
   "source": [
    "# n=44\n",
    "print(n)\n",
    "print('R =', sorted(R))\n",
    "print('B =', sorted(Bl))\n",
    "print('Bconv =', sorted(Bd))"
   ]
  },
  {
   "cell_type": "code",
   "execution_count": 58,
   "metadata": {},
   "outputs": [
    {
     "name": "stdout",
     "output_type": "stream",
     "text": [
      "45\n",
      "R = [2, 4, 5, 7, 11, 12, 14, 15, 18, 19, 20, 22, 23, 25, 26, 27, 30, 31, 33, 34, 38, 40, 41, 43]\n",
      "B = [1, 10, 13, 21, 28, 29, 36, 37, 39, 42]\n",
      "Bconv = [3, 6, 8, 9, 16, 17, 24, 32, 35, 44]\n"
     ]
    }
   ],
   "source": [
    "# n=45\n",
    "print(n)\n",
    "print('R =', sorted(R))\n",
    "print('B =', sorted(Bl))\n",
    "print('Bconv =', sorted(Bd))"
   ]
  },
  {
   "cell_type": "code",
   "execution_count": 61,
   "metadata": {},
   "outputs": [
    {
     "name": "stdout",
     "output_type": "stream",
     "text": [
      "46\n",
      "R = [1, 2, 6, 7, 8, 9, 10, 11, 14, 15, 20, 21, 23, 25, 26, 31, 32, 35, 36, 37, 38, 39, 40, 44, 45]\n",
      "B = [12, 13, 16, 19, 24, 28, 29, 41, 42, 43]\n",
      "Bconv = [3, 4, 5, 17, 18, 22, 27, 30, 33, 34]\n"
     ]
    }
   ],
   "source": [
    "# n=46\n",
    "print(n)\n",
    "print('R =', sorted(R))\n",
    "print('B =', sorted(Bl))\n",
    "print('Bconv =', sorted(Bd))"
   ]
  },
  {
   "cell_type": "code",
   "execution_count": 63,
   "metadata": {},
   "outputs": [
    {
     "name": "stdout",
     "output_type": "stream",
     "text": [
      "47\n",
      "R = [1, 2, 6, 7, 8, 9, 10, 11, 14, 15, 20, 21, 23, 25, 26, 31, 32, 35, 36, 37, 38, 39, 40, 44, 45]\n",
      "B = [12, 13, 16, 19, 24, 28, 29, 41, 42, 43]\n",
      "Bconv = [3, 4, 5, 17, 18, 22, 27, 30, 33, 34]\n"
     ]
    }
   ],
   "source": [
    "# n=47\n",
    "print(n)\n",
    "print('R =', sorted(R))\n",
    "print('B =', sorted(Bl))\n",
    "print('Bconv =', sorted(Bd))"
   ]
  },
  {
   "cell_type": "code",
   "execution_count": 66,
   "metadata": {},
   "outputs": [
    {
     "name": "stdout",
     "output_type": "stream",
     "text": [
      "48\n",
      "R = [1, 2, 6, 7, 9, 12, 15, 16, 17, 19, 20, 21, 22, 24, 26, 27, 28, 29, 31, 32, 33, 36, 39, 41, 42, 46, 47]\n",
      "B = [3, 4, 8, 11, 13, 14, 18, 25, 38, 43]\n",
      "Bconv = [5, 10, 23, 30, 34, 35, 37, 40, 44, 45]\n"
     ]
    }
   ],
   "source": [
    "# n=48\n",
    "print(n)\n",
    "print('R =', sorted(R))\n",
    "print('B =', sorted(Bl))\n",
    "print('Bconv =', sorted(Bd))"
   ]
  },
  {
   "cell_type": "code",
   "execution_count": 69,
   "metadata": {},
   "outputs": [
    {
     "name": "stdout",
     "output_type": "stream",
     "text": [
      "49\n",
      "R = [2, 5, 6, 7, 9, 12, 13, 14, 15, 16, 18, 19, 20, 24, 25, 29, 30, 31, 33, 34, 35, 36, 37, 40, 42, 43, 44, 47]\n",
      "B = [1, 17, 23, 27, 28, 38, 39, 41, 45, 46]\n",
      "Bconv = [3, 4, 8, 10, 11, 21, 22, 26, 32, 48]\n"
     ]
    }
   ],
   "source": [
    "# n=49\n",
    "print(n)\n",
    "print('R =', sorted(R))\n",
    "print('B =', sorted(Bl))\n",
    "print('Bconv =', sorted(Bd))"
   ]
  },
  {
   "cell_type": "code",
   "execution_count": 72,
   "metadata": {},
   "outputs": [
    {
     "name": "stdout",
     "output_type": "stream",
     "text": [
      "50\n",
      "R = [4, 6, 7, 8, 9, 10, 15, 16, 17, 20, 21, 22, 24, 25, 26, 28, 29, 30, 33, 34, 35, 40, 41, 42, 43, 44, 46]\n",
      "B = [11, 12, 13, 18, 23, 31, 36, 45, 47, 48, 49]\n",
      "Bconv = [1, 2, 3, 5, 14, 19, 27, 32, 37, 38, 39]\n"
     ]
    }
   ],
   "source": [
    "# n=50\n",
    "print(n)\n",
    "print('R =', sorted(R))\n",
    "print('B =', sorted(Bl))\n",
    "print('Bconv =', sorted(Bd))"
   ]
  },
  {
   "cell_type": "code",
   "execution_count": 75,
   "metadata": {},
   "outputs": [
    {
     "name": "stdout",
     "output_type": "stream",
     "text": [
      "51\n",
      "R = [1, 6, 7, 8, 10, 12, 14, 16, 17, 18, 19, 20, 23, 24, 27, 28, 31, 32, 33, 34, 35, 37, 39, 41, 43, 44, 45, 50]\n",
      "B = [2, 4, 5, 9, 11, 13, 15, 22, 26, 30, 48]\n",
      "Bconv = [3, 21, 25, 29, 36, 38, 40, 42, 46, 47, 49]\n"
     ]
    }
   ],
   "source": [
    "# n=51\n",
    "print(n)\n",
    "print('R =', sorted(R))\n",
    "print('B =', sorted(Bl))\n",
    "print('Bconv =', sorted(Bd))"
   ]
  },
  {
   "cell_type": "code",
   "execution_count": 78,
   "metadata": {},
   "outputs": [
    {
     "name": "stdout",
     "output_type": "stream",
     "text": [
      "52\n",
      "R = [1, 2, 6, 7, 8, 11, 13, 17, 18, 19, 20, 21, 24, 25, 26, 27, 28, 31, 32, 33, 34, 35, 39, 41, 44, 45, 46, 50, 51]\n",
      "B = [3, 5, 10, 14, 15, 29, 30, 36, 40, 43, 48]\n",
      "Bconv = [4, 9, 12, 16, 22, 23, 37, 38, 42, 47, 49]\n"
     ]
    }
   ],
   "source": [
    "# n=52\n",
    "print(n)\n",
    "print('R =', sorted(R))\n",
    "print('B =', sorted(Bl))\n",
    "print('Bconv =', sorted(Bd))"
   ]
  },
  {
   "cell_type": "code",
   "execution_count": 81,
   "metadata": {},
   "outputs": [
    {
     "name": "stdout",
     "output_type": "stream",
     "text": [
      "53\n",
      "R = [1, 3, 4, 5, 7, 8, 11, 12, 15, 16, 17, 18, 19, 20, 23, 30, 33, 34, 35, 36, 37, 38, 41, 42, 45, 46, 48, 49, 50, 52]\n",
      "B = [10, 13, 22, 24, 25, 26, 32, 39, 44, 47, 51]\n",
      "Bconv = [2, 6, 9, 14, 21, 27, 28, 29, 31, 40, 43]\n"
     ]
    }
   ],
   "source": [
    "# n=53\n",
    "print(n)\n",
    "print('R =', sorted(R))\n",
    "print('B =', sorted(Bl))\n",
    "print('Bconv =', sorted(Bd))"
   ]
  },
  {
   "cell_type": "code",
   "execution_count": 84,
   "metadata": {},
   "outputs": [
    {
     "name": "stdout",
     "output_type": "stream",
     "text": [
      "54\n",
      "R = [3, 4, 6, 8, 9, 10, 12, 15, 16, 18, 19, 21, 23, 24, 27, 30, 31, 33, 35, 36, 38, 39, 42, 44, 45, 46, 48, 50, 51]\n",
      "B = [5, 11, 13, 20, 22, 25, 26, 37, 40, 47, 52, 53]\n",
      "Bconv = [1, 2, 7, 14, 17, 28, 29, 32, 34, 41, 43, 49]\n"
     ]
    }
   ],
   "source": [
    "# n=54\n",
    "print(n)\n",
    "print('R =', sorted(R))\n",
    "print('B =', sorted(Bl))\n",
    "print('Bconv =', sorted(Bd))"
   ]
  },
  {
   "cell_type": "code",
   "execution_count": 87,
   "metadata": {},
   "outputs": [
    {
     "name": "stdout",
     "output_type": "stream",
     "text": [
      "55\n",
      "R = [3, 4, 7, 9, 10, 12, 13, 15, 17, 19, 20, 22, 25, 26, 27, 28, 29, 30, 33, 35, 36, 38, 40, 42, 43, 45, 46, 48, 51, 52]\n",
      "B = [5, 21, 23, 31, 37, 39, 41, 44, 47, 49, 53, 54]\n",
      "Bconv = [1, 2, 6, 8, 11, 14, 16, 18, 24, 32, 34, 50]\n"
     ]
    }
   ],
   "source": [
    "# n=55\n",
    "print(n)\n",
    "print('R =', sorted(R))\n",
    "print('B =', sorted(Bl))\n",
    "print('Bconv =', sorted(Bd))"
   ]
  },
  {
   "cell_type": "code",
   "execution_count": 90,
   "metadata": {},
   "outputs": [
    {
     "name": "stdout",
     "output_type": "stream",
     "text": [
      "56\n",
      "R = [2, 5, 6, 8, 10, 12, 14, 17, 18, 19, 20, 23, 24, 25, 26, 27, 28, 29, 30, 31, 32, 33, 36, 37, 38, 39, 42, 44, 46, 48, 50, 51, 54]\n",
      "B = [3, 7, 9, 11, 15, 16, 21, 22, 43, 52, 55]\n",
      "Bconv = [1, 4, 13, 34, 35, 40, 41, 45, 47, 49, 53]\n"
     ]
    }
   ],
   "source": [
    "# n=56\n",
    "print(n)\n",
    "print('R =', sorted(R))\n",
    "print('B =', sorted(Bl))\n",
    "print('Bconv =', sorted(Bd))"
   ]
  },
  {
   "cell_type": "code",
   "execution_count": 93,
   "metadata": {},
   "outputs": [
    {
     "name": "stdout",
     "output_type": "stream",
     "text": [
      "57\n",
      "R = [3, 4, 5, 8, 11, 12, 14, 17, 18, 19, 21, 24, 25, 26, 27, 30, 31, 32, 33, 36, 38, 39, 40, 43, 45, 46, 49, 52, 53, 54]\n",
      "B = [1, 2, 7, 9, 10, 16, 20, 22, 23, 29, 42, 44, 51]\n",
      "Bconv = [6, 13, 15, 28, 34, 35, 37, 41, 47, 48, 50, 55, 56]\n"
     ]
    }
   ],
   "source": [
    "# n=57\n",
    "print(n)\n",
    "print('R =', sorted(R))\n",
    "print('B =', sorted(Bl))\n",
    "print('Bconv =', sorted(Bd))"
   ]
  },
  {
   "cell_type": "code",
   "execution_count": 96,
   "metadata": {},
   "outputs": [
    {
     "name": "stdout",
     "output_type": "stream",
     "text": [
      "58\n",
      "R = [4, 5, 7, 8, 9, 12, 20, 21, 22, 24, 25, 26, 27, 28, 29, 30, 31, 32, 33, 34, 36, 37, 38, 46, 49, 50, 51, 53, 54]\n",
      "B = [1, 2, 3, 6, 18, 19, 35, 41, 42, 43, 44, 45, 47, 48]\n",
      "Bconv = [10, 11, 13, 14, 15, 16, 17, 23, 39, 40, 52, 55, 56, 57]\n"
     ]
    }
   ],
   "source": [
    "# n=58\n",
    "print(n)\n",
    "print('R =', sorted(R))\n",
    "print('B =', sorted(Bl))\n",
    "print('Bconv =', sorted(Bd))"
   ]
  },
  {
   "cell_type": "code",
   "execution_count": 99,
   "metadata": {},
   "outputs": [
    {
     "name": "stdout",
     "output_type": "stream",
     "text": [
      "59\n",
      "R = [1, 2, 3, 5, 7, 8, 12, 14, 15, 18, 19, 20, 22, 23, 26, 27, 32, 33, 36, 37, 39, 40, 41, 44, 45, 47, 51, 52, 54, 56, 57, 58]\n",
      "B = [6, 9, 13, 17, 24, 28, 30, 34, 38, 43, 48, 49, 55]\n",
      "Bconv = [4, 10, 11, 16, 21, 25, 29, 31, 35, 42, 46, 50, 53]\n"
     ]
    }
   ],
   "source": [
    "# n=59\n",
    "print(n)\n",
    "print('R =', sorted(R))\n",
    "print('B =', sorted(Bl))\n",
    "print('Bconv =', sorted(Bd))"
   ]
  },
  {
   "cell_type": "code",
   "execution_count": 102,
   "metadata": {},
   "outputs": [
    {
     "name": "stdout",
     "output_type": "stream",
     "text": [
      "60\n",
      "R = [2, 3, 4, 6, 10, 12, 18, 20, 22, 23, 24, 26, 27, 28, 29, 30, 31, 32, 33, 34, 36, 37, 38, 40, 42, 48, 50, 54, 56, 57, 58]\n",
      "B = [1, 9, 11, 17, 25, 39, 41, 44, 45, 46, 47, 52, 53, 55]\n",
      "Bconv = [5, 7, 8, 13, 14, 15, 16, 19, 21, 35, 43, 49, 51, 59]\n"
     ]
    }
   ],
   "source": [
    "# n=60\n",
    "print(n)\n",
    "print('R =', sorted(R))\n",
    "print('B =', sorted(Bl))\n",
    "print('Bconv =', sorted(Bd))"
   ]
  },
  {
   "cell_type": "code",
   "execution_count": 105,
   "metadata": {},
   "outputs": [
    {
     "name": "stdout",
     "output_type": "stream",
     "text": [
      "61\n",
      "R = [2, 6, 8, 9, 10, 11, 12, 13, 16, 18, 20, 21, 22, 24, 27, 28, 29, 30, 31, 32, 33, 34, 37, 39, 40, 41, 43, 45, 48, 49, 50, 51, 52, 53, 55, 59]\n",
      "B = [1, 5, 15, 19, 35, 36, 38, 44, 47, 54, 57, 58]\n",
      "Bconv = [3, 4, 7, 14, 17, 23, 25, 26, 42, 46, 56, 60]\n"
     ]
    }
   ],
   "source": [
    "# n=61\n",
    "print(n)\n",
    "print('R =', sorted(R))\n",
    "print('B =', sorted(Bl))\n",
    "print('Bconv =', sorted(Bd))"
   ]
  },
  {
   "cell_type": "code",
   "execution_count": 108,
   "metadata": {},
   "outputs": [
    {
     "name": "stdout",
     "output_type": "stream",
     "text": [
      "62\n",
      "R = [2, 3, 6, 8, 9, 12, 14, 15, 16, 17, 18, 21, 22, 23, 24, 26, 28, 29, 31, 33, 34, 36, 38, 39, 40, 41, 44, 45, 46, 47, 48, 50, 53, 54, 56, 59, 60]\n",
      "B = [1, 4, 5, 10, 11, 13, 20, 25, 30, 35, 43, 55]\n",
      "Bconv = [7, 19, 27, 32, 37, 42, 49, 51, 52, 57, 58, 61]\n"
     ]
    }
   ],
   "source": [
    "# n=62\n",
    "print(n)\n",
    "print('R =', sorted(R))\n",
    "print('B =', sorted(Bl))\n",
    "print('Bconv =', sorted(Bd))"
   ]
  },
  {
   "cell_type": "code",
   "execution_count": null,
   "metadata": {},
   "outputs": [],
   "source": []
  }
 ],
 "metadata": {
  "kernelspec": {
   "display_name": "Python 3 (ipykernel)",
   "language": "python",
   "name": "python3"
  },
  "language_info": {
   "codemirror_mode": {
    "name": "ipython",
    "version": 3
   },
   "file_extension": ".py",
   "mimetype": "text/x-python",
   "name": "python",
   "nbconvert_exporter": "python",
   "pygments_lexer": "ipython3",
   "version": "3.11.2"
  }
 },
 "nbformat": 4,
 "nbformat_minor": 2
}
